{
 "cells": [
  {
   "cell_type": "code",
   "execution_count": 38,
   "metadata": {},
   "outputs": [
    {
     "data": {
      "text/html": [
       "<div>\n",
       "<style scoped>\n",
       "    .dataframe tbody tr th:only-of-type {\n",
       "        vertical-align: middle;\n",
       "    }\n",
       "\n",
       "    .dataframe tbody tr th {\n",
       "        vertical-align: top;\n",
       "    }\n",
       "\n",
       "    .dataframe thead th {\n",
       "        text-align: right;\n",
       "    }\n",
       "</style>\n",
       "<table border=\"1\" class=\"dataframe\">\n",
       "  <thead>\n",
       "    <tr style=\"text-align: right;\">\n",
       "      <th></th>\n",
       "      <th>GENUS</th>\n",
       "      <th>GLYCOPROTEIN</th>\n",
       "      <th>SPECIES/Strains</th>\n",
       "      <th>UNIPROT ID</th>\n",
       "      <th>AA LENGTH</th>\n",
       "      <th>Pi</th>\n",
       "      <th>Mol.Wt(KD)</th>\n",
       "      <th>Hydropathy</th>\n",
       "      <th>Helix (%)</th>\n",
       "      <th>Loop</th>\n",
       "      <th>Strand</th>\n",
       "      <th>E(%)</th>\n",
       "      <th>T</th>\n",
       "      <th>Q</th>\n",
       "      <th>G</th>\n",
       "      <th>label</th>\n",
       "    </tr>\n",
       "  </thead>\n",
       "  <tbody>\n",
       "    <tr>\n",
       "      <th>0</th>\n",
       "      <td>HENIPA VIRUS</td>\n",
       "      <td>G</td>\n",
       "      <td>NIPAH VIRUS</td>\n",
       "      <td>Q9IH62</td>\n",
       "      <td>602</td>\n",
       "      <td>8.58</td>\n",
       "      <td>67.05</td>\n",
       "      <td>-0.17</td>\n",
       "      <td>12.46</td>\n",
       "      <td>58.46</td>\n",
       "      <td>28.90</td>\n",
       "      <td>4.32</td>\n",
       "      <td>6.15</td>\n",
       "      <td>4.15</td>\n",
       "      <td>6.64</td>\n",
       "      <td>YES</td>\n",
       "    </tr>\n",
       "    <tr>\n",
       "      <th>1</th>\n",
       "      <td>NaN</td>\n",
       "      <td>NaN</td>\n",
       "      <td>HENDRA VIRUS</td>\n",
       "      <td>O89343</td>\n",
       "      <td>604</td>\n",
       "      <td>7.42</td>\n",
       "      <td>67.20</td>\n",
       "      <td>-0.12</td>\n",
       "      <td>13.58</td>\n",
       "      <td>58.94</td>\n",
       "      <td>27.48</td>\n",
       "      <td>3.64</td>\n",
       "      <td>6.29</td>\n",
       "      <td>4.14</td>\n",
       "      <td>6.13</td>\n",
       "      <td>YES</td>\n",
       "    </tr>\n",
       "    <tr>\n",
       "      <th>2</th>\n",
       "      <td>NaN</td>\n",
       "      <td>NaN</td>\n",
       "      <td>CEDAR VIRUS</td>\n",
       "      <td>J7H333</td>\n",
       "      <td>622</td>\n",
       "      <td>7.08</td>\n",
       "      <td>70.64</td>\n",
       "      <td>-0.33</td>\n",
       "      <td>12.38</td>\n",
       "      <td>59.00</td>\n",
       "      <td>28.62</td>\n",
       "      <td>4.34</td>\n",
       "      <td>6.75</td>\n",
       "      <td>3.22</td>\n",
       "      <td>4.66</td>\n",
       "      <td>YES</td>\n",
       "    </tr>\n",
       "    <tr>\n",
       "      <th>3</th>\n",
       "      <td>NaN</td>\n",
       "      <td>NaN</td>\n",
       "      <td>GHANIAN VIRUS</td>\n",
       "      <td>I0E093</td>\n",
       "      <td>632</td>\n",
       "      <td>7.96</td>\n",
       "      <td>72.30</td>\n",
       "      <td>-0.29</td>\n",
       "      <td>12.50</td>\n",
       "      <td>60.28</td>\n",
       "      <td>27.22</td>\n",
       "      <td>4.75</td>\n",
       "      <td>9.18</td>\n",
       "      <td>3.22</td>\n",
       "      <td>3.96</td>\n",
       "      <td>YES</td>\n",
       "    </tr>\n",
       "    <tr>\n",
       "      <th>4</th>\n",
       "      <td>NaN</td>\n",
       "      <td>NaN</td>\n",
       "      <td>MOJIANG VIRUS</td>\n",
       "      <td>W8TIR7</td>\n",
       "      <td>625</td>\n",
       "      <td>5.63</td>\n",
       "      <td>69.12</td>\n",
       "      <td>-0.27</td>\n",
       "      <td>12.16</td>\n",
       "      <td>59.68</td>\n",
       "      <td>28.16</td>\n",
       "      <td>4.00</td>\n",
       "      <td>8.16</td>\n",
       "      <td>4.16</td>\n",
       "      <td>7.68</td>\n",
       "      <td>YES</td>\n",
       "    </tr>\n",
       "  </tbody>\n",
       "</table>\n",
       "</div>"
      ],
      "text/plain": [
       "          GENUS GLYCOPROTEIN SPECIES/Strains UNIPROT ID  AA LENGTH   Pi   \\\n",
       "0  HENIPA VIRUS           G      NIPAH VIRUS     Q9IH62        602  8.58   \n",
       "1           NaN          NaN    HENDRA VIRUS     O89343        604  7.42   \n",
       "2           NaN          NaN     CEDAR VIRUS     J7H333        622  7.08   \n",
       "3           NaN          NaN   GHANIAN VIRUS     I0E093        632  7.96   \n",
       "4           NaN          NaN   MOJIANG VIRUS     W8TIR7        625  5.63   \n",
       "\n",
       "   Mol.Wt(KD)  Hydropathy  Helix (%)  Loop   Strand   E(%)     T     Q     G  \\\n",
       "0       67.05       -0.17      12.46  58.46    28.90  4.32  6.15  4.15  6.64   \n",
       "1       67.20       -0.12      13.58  58.94    27.48  3.64  6.29  4.14  6.13   \n",
       "2       70.64       -0.33      12.38  59.00    28.62  4.34  6.75  3.22  4.66   \n",
       "3       72.30       -0.29      12.50  60.28    27.22  4.75  9.18  3.22  3.96   \n",
       "4       69.12       -0.27      12.16  59.68    28.16  4.00  8.16  4.16  7.68   \n",
       "\n",
       "  label  \n",
       "0   YES  \n",
       "1   YES  \n",
       "2   YES  \n",
       "3   YES  \n",
       "4   YES  "
      ]
     },
     "execution_count": 38,
     "metadata": {},
     "output_type": "execute_result"
    }
   ],
   "source": [
    "import pandas as pd\n",
    "import numpy as np\n",
    "\n",
    "data = pd.read_csv(r'nipah_virus_datasets1.csv')\n",
    "data.head(5)"
   ]
  },
  {
   "cell_type": "code",
   "execution_count": 39,
   "metadata": {},
   "outputs": [
    {
     "data": {
      "text/html": [
       "<div>\n",
       "<style scoped>\n",
       "    .dataframe tbody tr th:only-of-type {\n",
       "        vertical-align: middle;\n",
       "    }\n",
       "\n",
       "    .dataframe tbody tr th {\n",
       "        vertical-align: top;\n",
       "    }\n",
       "\n",
       "    .dataframe thead th {\n",
       "        text-align: right;\n",
       "    }\n",
       "</style>\n",
       "<table border=\"1\" class=\"dataframe\">\n",
       "  <thead>\n",
       "    <tr style=\"text-align: right;\">\n",
       "      <th></th>\n",
       "      <th>AA LENGTH</th>\n",
       "      <th>Pi</th>\n",
       "      <th>Mol.Wt(KD)</th>\n",
       "      <th>Hydropathy</th>\n",
       "      <th>Helix (%)</th>\n",
       "      <th>Loop</th>\n",
       "      <th>Strand</th>\n",
       "      <th>E(%)</th>\n",
       "      <th>T</th>\n",
       "      <th>Q</th>\n",
       "      <th>G</th>\n",
       "    </tr>\n",
       "  </thead>\n",
       "  <tbody>\n",
       "    <tr>\n",
       "      <th>0</th>\n",
       "      <td>602</td>\n",
       "      <td>8.58</td>\n",
       "      <td>67.05</td>\n",
       "      <td>-0.17</td>\n",
       "      <td>12.46</td>\n",
       "      <td>58.46</td>\n",
       "      <td>28.90</td>\n",
       "      <td>4.32</td>\n",
       "      <td>6.15</td>\n",
       "      <td>4.15</td>\n",
       "      <td>6.64</td>\n",
       "    </tr>\n",
       "    <tr>\n",
       "      <th>1</th>\n",
       "      <td>604</td>\n",
       "      <td>7.42</td>\n",
       "      <td>67.20</td>\n",
       "      <td>-0.12</td>\n",
       "      <td>13.58</td>\n",
       "      <td>58.94</td>\n",
       "      <td>27.48</td>\n",
       "      <td>3.64</td>\n",
       "      <td>6.29</td>\n",
       "      <td>4.14</td>\n",
       "      <td>6.13</td>\n",
       "    </tr>\n",
       "    <tr>\n",
       "      <th>2</th>\n",
       "      <td>622</td>\n",
       "      <td>7.08</td>\n",
       "      <td>70.64</td>\n",
       "      <td>-0.33</td>\n",
       "      <td>12.38</td>\n",
       "      <td>59.00</td>\n",
       "      <td>28.62</td>\n",
       "      <td>4.34</td>\n",
       "      <td>6.75</td>\n",
       "      <td>3.22</td>\n",
       "      <td>4.66</td>\n",
       "    </tr>\n",
       "    <tr>\n",
       "      <th>3</th>\n",
       "      <td>632</td>\n",
       "      <td>7.96</td>\n",
       "      <td>72.30</td>\n",
       "      <td>-0.29</td>\n",
       "      <td>12.50</td>\n",
       "      <td>60.28</td>\n",
       "      <td>27.22</td>\n",
       "      <td>4.75</td>\n",
       "      <td>9.18</td>\n",
       "      <td>3.22</td>\n",
       "      <td>3.96</td>\n",
       "    </tr>\n",
       "    <tr>\n",
       "      <th>4</th>\n",
       "      <td>625</td>\n",
       "      <td>5.63</td>\n",
       "      <td>69.12</td>\n",
       "      <td>-0.27</td>\n",
       "      <td>12.16</td>\n",
       "      <td>59.68</td>\n",
       "      <td>28.16</td>\n",
       "      <td>4.00</td>\n",
       "      <td>8.16</td>\n",
       "      <td>4.16</td>\n",
       "      <td>7.68</td>\n",
       "    </tr>\n",
       "  </tbody>\n",
       "</table>\n",
       "</div>"
      ],
      "text/plain": [
       "   AA LENGTH   Pi   Mol.Wt(KD)  Hydropathy  Helix (%)  Loop   Strand   E(%)  \\\n",
       "0        602  8.58       67.05       -0.17      12.46  58.46    28.90  4.32   \n",
       "1        604  7.42       67.20       -0.12      13.58  58.94    27.48  3.64   \n",
       "2        622  7.08       70.64       -0.33      12.38  59.00    28.62  4.34   \n",
       "3        632  7.96       72.30       -0.29      12.50  60.28    27.22  4.75   \n",
       "4        625  5.63       69.12       -0.27      12.16  59.68    28.16  4.00   \n",
       "\n",
       "      T     Q     G  \n",
       "0  6.15  4.15  6.64  \n",
       "1  6.29  4.14  6.13  \n",
       "2  6.75  3.22  4.66  \n",
       "3  9.18  3.22  3.96  \n",
       "4  8.16  4.16  7.68  "
      ]
     },
     "execution_count": 39,
     "metadata": {},
     "output_type": "execute_result"
    }
   ],
   "source": [
    "X = data.iloc[:, 4:15] #training data\n",
    "X.head(5)"
   ]
  },
  {
   "cell_type": "code",
   "execution_count": 40,
   "metadata": {},
   "outputs": [
    {
     "data": {
      "text/plain": [
       "0    YES\n",
       "1    YES\n",
       "2    YES\n",
       "3    YES\n",
       "4    YES\n",
       "Name: label, dtype: object"
      ]
     },
     "execution_count": 40,
     "metadata": {},
     "output_type": "execute_result"
    }
   ],
   "source": [
    "y = data.iloc[:, -1] #target\n",
    "y.head(5)"
   ]
  },
  {
   "cell_type": "code",
   "execution_count": 41,
   "metadata": {},
   "outputs": [
    {
     "data": {
      "text/plain": [
       "(76, 11)"
      ]
     },
     "execution_count": 41,
     "metadata": {},
     "output_type": "execute_result"
    }
   ],
   "source": [
    "X.shape"
   ]
  },
  {
   "cell_type": "code",
   "execution_count": 42,
   "metadata": {},
   "outputs": [
    {
     "data": {
      "text/plain": [
       "(76,)"
      ]
     },
     "execution_count": 42,
     "metadata": {},
     "output_type": "execute_result"
    }
   ],
   "source": [
    "y.shape"
   ]
  },
  {
   "cell_type": "code",
   "execution_count": 43,
   "metadata": {},
   "outputs": [],
   "source": [
    "from sklearn.model_selection import train_test_split\n",
    "X_train, X_test, y_train, y_test = train_test_split(X,y,\n",
    "                                                    test_size=0.30)\n"
   ]
  },
  {
   "cell_type": "code",
   "execution_count": 44,
   "metadata": {},
   "outputs": [],
   "source": [
    "from sklearn.neighbors import KNeighborsClassifier\n",
    "knn = KNeighborsClassifier(n_neighbors=1)"
   ]
  },
  {
   "cell_type": "code",
   "execution_count": 45,
   "metadata": {},
   "outputs": [
    {
     "data": {
      "text/plain": [
       "KNeighborsClassifier(n_neighbors=1)"
      ]
     },
     "execution_count": 45,
     "metadata": {},
     "output_type": "execute_result"
    }
   ],
   "source": [
    "knn.fit(X_train,y_train)"
   ]
  },
  {
   "cell_type": "code",
   "execution_count": 46,
   "metadata": {},
   "outputs": [],
   "source": [
    "pred = knn.predict(X_test)"
   ]
  },
  {
   "cell_type": "code",
   "execution_count": 47,
   "metadata": {},
   "outputs": [],
   "source": [
    "from sklearn.metrics import classification_report,confusion_matrix\n",
    "from sklearn.model_selection import cross_val_score\n"
   ]
  },
  {
   "cell_type": "code",
   "execution_count": 48,
   "metadata": {},
   "outputs": [
    {
     "name": "stdout",
     "output_type": "stream",
     "text": [
      "[[ 8  0]\n",
      " [ 1 14]]\n"
     ]
    }
   ],
   "source": [
    "print(confusion_matrix(y_test,pred))"
   ]
  },
  {
   "cell_type": "code",
   "execution_count": 49,
   "metadata": {},
   "outputs": [
    {
     "name": "stdout",
     "output_type": "stream",
     "text": [
      "              precision    recall  f1-score   support\n",
      "\n",
      "          NO       0.89      1.00      0.94         8\n",
      "         YES       1.00      0.93      0.97        15\n",
      "\n",
      "    accuracy                           0.96        23\n",
      "   macro avg       0.94      0.97      0.95        23\n",
      "weighted avg       0.96      0.96      0.96        23\n",
      "\n"
     ]
    }
   ],
   "source": [
    "print(classification_report(y_test,pred))"
   ]
  },
  {
   "cell_type": "code",
   "execution_count": 56,
   "metadata": {},
   "outputs": [
    {
     "data": {
      "text/plain": [
       "array(['YES'], dtype=object)"
      ]
     },
     "execution_count": 56,
     "metadata": {},
     "output_type": "execute_result"
    }
   ],
   "source": [
    "X_new = np.array([[602,8.58,67,-0.15,12,50,28,4,6,4,5]])\n",
    "prediction = knn.predict(X_new)\n",
    "prediction"
   ]
  },
  {
   "cell_type": "code",
   "execution_count": 57,
   "metadata": {},
   "outputs": [
    {
     "data": {
      "text/plain": [
       "array(['NO'], dtype=object)"
      ]
     },
     "execution_count": 57,
     "metadata": {},
     "output_type": "execute_result"
    }
   ],
   "source": [
    "X1_new = np.array([[400,5,50,-0.1,12,40,50,28,1,2,3]])\n",
    "prediction = knn.predict(X1_new)\n",
    "prediction"
   ]
  },
  {
   "cell_type": "code",
   "execution_count": 52,
   "metadata": {},
   "outputs": [
    {
     "data": {
      "text/html": [
       "<div>\n",
       "<style scoped>\n",
       "    .dataframe tbody tr th:only-of-type {\n",
       "        vertical-align: middle;\n",
       "    }\n",
       "\n",
       "    .dataframe tbody tr th {\n",
       "        vertical-align: top;\n",
       "    }\n",
       "\n",
       "    .dataframe thead th {\n",
       "        text-align: right;\n",
       "    }\n",
       "</style>\n",
       "<table border=\"1\" class=\"dataframe\">\n",
       "  <thead>\n",
       "    <tr style=\"text-align: right;\">\n",
       "      <th></th>\n",
       "      <th>AA LENGTH</th>\n",
       "      <th>Pi</th>\n",
       "      <th>Mol.Wt(KD)</th>\n",
       "      <th>Hydropathy</th>\n",
       "      <th>Helix (%)</th>\n",
       "      <th>Loop</th>\n",
       "      <th>Strand</th>\n",
       "      <th>E(%)</th>\n",
       "      <th>T</th>\n",
       "      <th>Q</th>\n",
       "      <th>G</th>\n",
       "    </tr>\n",
       "  </thead>\n",
       "  <tbody>\n",
       "    <tr>\n",
       "      <th>0</th>\n",
       "      <td>602</td>\n",
       "      <td>8.58</td>\n",
       "      <td>67.05</td>\n",
       "      <td>-0.17</td>\n",
       "      <td>12.46</td>\n",
       "      <td>58.46</td>\n",
       "      <td>28.90</td>\n",
       "      <td>4.32</td>\n",
       "      <td>6.15</td>\n",
       "      <td>4.15</td>\n",
       "      <td>6.64</td>\n",
       "    </tr>\n",
       "    <tr>\n",
       "      <th>1</th>\n",
       "      <td>604</td>\n",
       "      <td>7.42</td>\n",
       "      <td>67.20</td>\n",
       "      <td>-0.12</td>\n",
       "      <td>13.58</td>\n",
       "      <td>58.94</td>\n",
       "      <td>27.48</td>\n",
       "      <td>3.64</td>\n",
       "      <td>6.29</td>\n",
       "      <td>4.14</td>\n",
       "      <td>6.13</td>\n",
       "    </tr>\n",
       "  </tbody>\n",
       "</table>\n",
       "</div>"
      ],
      "text/plain": [
       "   AA LENGTH   Pi   Mol.Wt(KD)  Hydropathy  Helix (%)  Loop   Strand   E(%)  \\\n",
       "0        602  8.58       67.05       -0.17      12.46  58.46    28.90  4.32   \n",
       "1        604  7.42       67.20       -0.12      13.58  58.94    27.48  3.64   \n",
       "\n",
       "      T     Q     G  \n",
       "0  6.15  4.15  6.64  \n",
       "1  6.29  4.14  6.13  "
      ]
     },
     "execution_count": 52,
     "metadata": {},
     "output_type": "execute_result"
    }
   ],
   "source": [
    "X.head(2)"
   ]
  },
  {
   "cell_type": "code",
   "execution_count": null,
   "metadata": {},
   "outputs": [],
   "source": []
  }
 ],
 "metadata": {
  "kernelspec": {
   "display_name": "Python 3",
   "language": "python",
   "name": "python3"
  },
  "language_info": {
   "codemirror_mode": {
    "name": "ipython",
    "version": 3
   },
   "file_extension": ".py",
   "mimetype": "text/x-python",
   "name": "python",
   "nbconvert_exporter": "python",
   "pygments_lexer": "ipython3",
   "version": "3.8.3"
  }
 },
 "nbformat": 4,
 "nbformat_minor": 4
}
