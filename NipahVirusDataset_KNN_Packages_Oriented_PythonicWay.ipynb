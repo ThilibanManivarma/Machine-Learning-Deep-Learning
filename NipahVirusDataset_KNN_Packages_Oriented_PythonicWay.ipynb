{
 "cells": [
  {
   "cell_type": "code",
   "execution_count": 17,
   "metadata": {},
   "outputs": [
    {
     "name": "stdout",
     "output_type": "stream",
     "text": [
      "lets gets started !! \n",
      "              precision    recall  f1-score   support\n",
      "\n",
      "          NO       1.00      1.00      1.00         5\n",
      "         YES       1.00      1.00      1.00        18\n",
      "\n",
      "    accuracy                           1.00        23\n",
      "   macro avg       1.00      1.00      1.00        23\n",
      "weighted avg       1.00      1.00      1.00        23\n",
      "\n",
      "[[ 5  0]\n",
      " [ 0 18]]\n"
     ]
    }
   ],
   "source": [
    "try:\n",
    "    import pandas as pd\n",
    "    import seaborn as sns\n",
    "    import numpy as np\n",
    "\n",
    "    from sklearn.model_selection import train_test_split\n",
    "    from sklearn.metrics import classification_report, confusion_matrix\n",
    "\n",
    "    from sklearn.preprocessing import StandardScaler\n",
    "    from sklearn.neighbors import KNeighborsClassifier\n",
    "    \n",
    "    print('lets gets started !! ')\n",
    "    \n",
    "except:\n",
    "    print(\" pls need to add more packages! \")\n",
    "    \n",
    "    \n",
    "class KNN_Nipah():\n",
    "    \n",
    "    def __init__(self, knn_value):\n",
    "        self.knn_value = knn_value\n",
    "        self.X_train, self.X_test, self.y_train, self.y_test = self.preprocess\n",
    "        self.model = self.createmodel\n",
    "        \n",
    "    \n",
    "    @property\n",
    "    def preprocess(self):\n",
    "        \n",
    "        data = pd.read_csv(r'nipah_virus_datasets1.csv')\n",
    "        X = data.iloc[:,4:15]\n",
    "        y = data.iloc[:, -1]\n",
    "        X_train , X_test, y_train, y_test = train_test_split(X,y, test_size = 0.3, random_state = 101)\n",
    "        return X_train , X_test, y_train, y_test\n",
    "    \n",
    "    @property\n",
    "    def createmodel(self):\n",
    "        \n",
    "        model = KNeighborsClassifier(n_neighbors= self.knn_value)\n",
    "        return model\n",
    "    \n",
    "    @property\n",
    "    def train(self):\n",
    "        self.model.fit(self.X_train, self.y_train)\n",
    "        \n",
    "    @property    \n",
    "    def test(self):\n",
    "        y_pred = self.model.predict(self.X_test)\n",
    "        return y_pred \n",
    "    \n",
    "    @property\n",
    "    def report(self):\n",
    "        \n",
    "        y_pred = self.test\n",
    "        report = classification_report(self.y_test, y_pred) #y_test -- > real data , pred---> predicted ones! \n",
    "        matrix = confusion_matrix(self.y_test, y_pred)\n",
    "        \n",
    "        return report, matrix\n",
    "    \n",
    "    \n",
    "neighbors = KNN_Nipah(knn_value = 1)\n",
    "neighbors.train\n",
    "pred = neighbors.test\n",
    "report, matrix = neighbors.report\n",
    "print(report)\n",
    "print(matrix)\n",
    "\n",
    "\n",
    "\n",
    "\n",
    "    "
   ]
  },
  {
   "cell_type": "code",
   "execution_count": null,
   "metadata": {},
   "outputs": [],
   "source": []
  }
 ],
 "metadata": {
  "kernelspec": {
   "display_name": "Python 3",
   "language": "python",
   "name": "python3"
  },
  "language_info": {
   "codemirror_mode": {
    "name": "ipython",
    "version": 3
   },
   "file_extension": ".py",
   "mimetype": "text/x-python",
   "name": "python",
   "nbconvert_exporter": "python",
   "pygments_lexer": "ipython3",
   "version": "3.8.3"
  }
 },
 "nbformat": 4,
 "nbformat_minor": 4
}
